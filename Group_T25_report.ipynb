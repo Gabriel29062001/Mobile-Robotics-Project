{
 "cells": [
  {
   "cell_type": "markdown",
   "id": "67fe434a-7306-4aed-8812-dce72b1e7623",
   "metadata": {},
   "source": [
    "# Mobile Robotics : Group T25 Report Project\n"
   ]
  },
  {
   "cell_type": "markdown",
   "id": "30d97859-8637-4c4c-94d3-8b7860f18443",
   "metadata": {},
   "source": [
    "## Table of Contents\n",
    "\n",
    "\n",
    "* [1. Introduction](#introduction)\n",
    "<br/><br/>\n",
    "* [2. Computer Vision](#cv)\n",
    "    * [2.1. Introduction to Yolov8](#yolov8)\n",
    "    * [2.2. Application on the Thymio](#application_yolo)\n",
    "        * [2.2.1. Images of System Detection](#cv_images)\n",
    "        * [2.2.2. Performaces of the model](#cv_perf)\n",
    "    * [2.3. Detection function](#detection_function)\n",
    "      * [2.3.1. Packages required](#CV_packages)\n",
    "      * [2.3.2. Function explanation](#CV_explanation)   \n",
    "    * [2.4. Annotation function](#annotation) \n",
    "<br/><br/>\n",
    "* [3. Global Path](#global_path)\n",
    "    * [3.1. Overall Path strategy](#path_strategy)\n",
    "    * [3.2. Global Path Planning](#global_path_planning)\n",
    "    * [3.3. Global Path Function](#global_path_function)\n",
    "        * [3.3.1. Packages required ](#global_path_packages)\n",
    "        * [3.3.2. Function Explanation ](#global_path_explanation)\n",
    "        * [3.3.3. Example of global path ](#global_path_example)\n",
    "        <br/><br/>\n",
    "* [4. Local Navigation](#local_navigation)\n",
    "    * [4.1.Local Navigation Function](#local_navigation_function)\n",
    "    * [4.2 Key parameters](#key_parameters)\n",
    "<br/><br/>     \n",
    "* [5. Motion Control](#motion_control)\n",
    "    * [5.1. Drive function](#drive)\n",
    "    * [5.2. Turn function](#turn)\n",
    "<br/><br/>\n",
    "* [6. Filtering](#filtering)\n",
    "    * [6.1. Introduction to the Markov Filter](#markov_filter)\n",
    "    * [6.2. Implementation of the Markov Filter](#application_filter)\n",
    "        * [6.2.1. Initialisation of the map](#map_initialisation)\n",
    "        * [6.2.2. State belief](#state_belief)\n",
    "        * [6.2.3. Sensor update](#sensor_update)\n",
    "        * [6.2.4. Motion update and Calculation step](#calculation_step)\n",
    "        * [6.2.5. Heatmap plot](#heatmap)\n",
    "        * [6.2.6. Markov function](#m_function)\n",
    "    * [6.3. Limitations of the Markov Filter](#problems)\n",
    "<br/><br/>  \n",
    "* [7. Main code](#main_code)\n",
    "    * [7.1. Packages and Functions importation](#packages_functions_importation)\n",
    "    * [7.2.Initialize Thymio functions](#Thymio_functions)\n",
    "    * [7.3.Main loop](#main_loop)\n",
    "<br/><br/>  \n",
    "* [8. Videos demonstration](#videos_demonstration)\n",
    "    * [8.1. Demonstration without kidnapping](#videos_demonstration_without)\n",
    "    * [8.2. Demonstration with kidnapping](#videos_demonstration_with)\n",
    "<br/><br/> \n",
    "* [9. Conclusion](#conclusion)\n",
    "<br/><br/>\n",
    "* [10. References](#references)\n",
    "    * [10.0. General](#rg_references)\n",
    "    * [10.1. Computer vision](#cv_references)\n",
    "    * [10.2. Global path](#gp_references)\n",
    "    * [10.3. Local Navigation](#ln_references)\n",
    "    * [10.4. Filtering](#f_references)"
   ]
  },
  {
   "cell_type": "markdown",
   "id": "fb319468-62b5-4f4a-9687-613431564804",
   "metadata": {},
   "source": [
    "## 1. Introduction <a class=\"anchor\" id=\"introduction\"></a>\n",
    "\n",
    "The aim of this project was to integrate the different themes currently being seen in one project: path planning, vision, local navigation and filtering. To combine these, we treated our robot as a spaceship.\n",
    "\n",
    "Thymio Mars V aims to reach Mars in the shortest possible path, avoiding black holes along the way. To do this, the camera detects the robot's position, the position of Mars and the position of the black holes. To determine the shortest route, we decided to use the A* algorithm, as it's easy to implement and doesn't require a lot of resources. If Thymio Mars V encounters an asteroid field on its path, obstacle detection takes control and, thanks to the proximity sensors, the robot is able to avoid it.\n",
    "\n",
    "Finally, Markov Filtering is used to be sure that the robot starts at the right position because this type of filtering is effective when there is uncertainty about the position and speed, which is the case in this project.\n",
    "\n"
   ]
  },
  {
   "cell_type": "markdown",
   "id": "d27b611c-196c-4a7c-89dc-4cdbe72e11ef",
   "metadata": {},
   "source": [
    "## 2. Computer Vision <a class=\"anchor\" id=\"cv\"></a>"
   ]
  },
  {
   "cell_type": "markdown",
   "id": "16e339fe-0a6c-4b0a-b1aa-4243cf754963",
   "metadata": {},
   "source": [
    "### 2.1. Introduction to Yolov8 <a class=\"anchor\" id=\"yolov8\"></a>\n",
    "\n",
    "YOLOv8 is the newest state-of-the-art YOLO model that can be used for object detection, image classification, and instance segmentation tasks. YOLOv8 was developed by Ultralytics, who also created the influential and industry-defining YOLOv5 model. YOLOv8 includes numerous architectural and developer experience changes and improvements over YOLOv5.\n",
    "\n",
    "Yolov8 is based on a Convolutional neural network, the main idea is to train a model using this CNN with an adapted dataset.\n",
    "\n",
    "\n",
    "Convolutional neural network (CNN) is a regularized type of feed-forward neural network that learns feature engineering by itself via filters (or kernel) optimization. Vanishing gradients and exploding gradients, seen during backpropagation in earlier neural networks, are prevented by using regularized weights over fewer connections.For example, for each neuron in the fully-connected layer 10,000 weights would be required for processing an image sized 100 × 100 pixels.\n",
    "\n",
    "Sources :\n",
    "\n",
    "https://blog.roboflow.com/whats-new-in-yolov8/\n",
    "\n",
    "https://en.wikipedia.org/wiki/Convolutional_neural_network\n"
   ]
  },
  {
   "cell_type": "markdown",
   "id": "5ed401ef-8bcf-4cb4-99a4-893cee2d5886",
   "metadata": {},
   "source": [
    "### 2.2. Application of Yolov8 on the thymio <a class=\"anchor\" id=\"application_yolo\"></a>\n",
    "\n",
    "\n",
    "The basic idea was to use yolov8 to detect the robot, start point and obstacles at any point in time. We first train our model with :\n",
    "- annotation of a dataset on Robotflow (https://app.roboflow.com/gabriel-paffi)\n",
    "- training our system on a google colab to accelare our training process (https://colab.research.google.com/github/roboflow-ai/notebooks/blob/main/notebooks/train-yolov8-object-detection-on-custom-dataset.ipynb#scrollTo=I4bpUIibcV1l)\n",
    "\n",
    "Once we have obtained our model trained on our dataset, we can use this model to predict the class, position and confidence of any object of our datasets."
   ]
  },
  {
   "cell_type": "markdown",
   "id": "5e384d7e-fbaf-40b4-963f-b87df19e006a",
   "metadata": {},
   "source": [
    "#### 2.2.1 Images of System Detection <a class=\"anchor\" id=\"cv_images\"></a>\n",
    "\n",
    "<div style=\"text-align:center\">\n",
    "    <img src=\"./cv_images/robot.png\" alt=\"System detection objects\">\n",
    "</div>\n",
    "\n",
    "<div style=\"text-align:center\">\n",
    "    <img src=\"./cv_images/System.png\" alt=\"System detection objects\">\n",
    "</div>\n"
   ]
  },
  {
   "cell_type": "markdown",
   "id": "e9cfb11b-633f-473f-886e-c0cc2f678e68",
   "metadata": {},
   "source": [
    "#### 2.2.2 Performances of the model <a class=\"anchor\" id=\"cv_perf\"></a>\n",
    "\n",
    "We wanted also to evaluate our model based on key matrices and curves. It enables us to verify the robustness of our computer vision function and understand misclassifications.\n",
    "\n",
    "<div style=\"text-align: center;\">\n",
    "    <div style=\"display: inline-block;\">\n",
    "        <img src=\"./cv_images/confusion_matrix.png\" alt=\"matrix\" style=\"width: 400px; height: 400px; margin-right: 20px;\">\n",
    "    </div>\n",
    "    <div style=\"display: inline-block;\">\n",
    "        <img src=\"./cv_images/F1_curve.png\" alt=\"System detection objects\" style=\"width: 450px; height: 350px;\">\n",
    "    </div>\n",
    "</div>\n",
    "\n"
   ]
  },
  {
   "cell_type": "markdown",
   "id": "94abc7f8-3508-4c16-b06b-d447f37987c0",
   "metadata": {},
   "source": [
    "### 2.3. Detection function <a class=\"anchor\" id=\"detection_function\"></a>\n",
    "\n",
    "\n",
    "#### 2.3.1. Packages required <a class=\"anchor\" id=\"CV_packages\"></a>\n",
    "\n",
    "- open cv2 : https://opencv.org/\n",
    "- Yolov8 from ultralytics : https://github.com/ultralytics/ultralytics\n",
    "\n",
    "#### 2.3.2. Explanation of the function <a class=\"anchor\" id=\"CV_explanation\"></a>\n",
    "\n",
    "This function take as input a frame and returns :\n",
    "- an array containing the different objects : (class, x_center, y_center, width_object, height_object)\n",
    "- a frame annotated with the class object and the confidence accorded to the object\n",
    "\n",
    "This function uses our trained model (robotv12.pt) and a minimum confidence to detect an object of 0.55 (1 is maximum confidence)."
   ]
  },
  {
   "cell_type": "code",
   "execution_count": 33,
   "id": "c822e7f8-83bf-4a78-a395-6189cd67c4a9",
   "metadata": {},
   "outputs": [],
   "source": [
    "import cv2\n",
    "from ultralytics import YOLO\n",
    "model = YOLO(\"robotv12.pt\")\n",
    "class_object = [\"blackholes\",\"earth\",\"mars\", \"robot\" ]\n",
    "\n",
    "def detection(frame):\n",
    "\n",
    "    confidence_min = 0.55\n",
    "\n",
    "    results = model.track(frame, conf = confidence_min, verbose = False)\n",
    "\n",
    "    annotated_frame = results[0].plot()\n",
    "\n",
    "\n",
    "    array_box_dim_tot = []\n",
    "           \n",
    "   \n",
    "\n",
    "    for objects in results:\n",
    "    \n",
    "            number_objects = len(objects.boxes.cls)\n",
    "            box_dimensions = objects.boxes.xywhn\n",
    "            for i in range(number_objects) :\n",
    "              \n",
    "                array_box_dim_object = []\n",
    "                confidence = round(objects.boxes.conf[i].item(),3)\n",
    "                cls = objects.boxes.cls[i].item()\n",
    "                array_box_dim = box_dimensions[i].tolist() # center x,y width, height\n",
    "                for i in range(len(array_box_dim)):\n",
    "                    array_box_dim[i] = round(array_box_dim[i],2)\n",
    "                array_box_dim_object = [class_object[int(cls)], array_box_dim, confidence]\n",
    "\n",
    "                array_box_dim_tot.append(array_box_dim_object)\n",
    "\n",
    "\n",
    "                        \n",
    "\n",
    "    return(array_box_dim_tot, annotated_frame)"
   ]
  },
  {
   "cell_type": "markdown",
   "id": "092ff158-a50c-4ae9-880b-b2a477d2f159",
   "metadata": {},
   "source": [
    "### 2.4. Annotation function <a class=\"anchor\" id=\"annotation\"></a>\n",
    "\n",
    "This function's goal is to add the path of the robot on the frame.\n",
    "The inputs of this function are :\n",
    "- a frame\n",
    "- coordinates : the coordinates of each point from the robot towards the goal\n",
    "\n",
    "The output is the frame with the segment between each point of the path.\n",
    "\n"
   ]
  },
  {
   "cell_type": "code",
   "execution_count": 34,
   "id": "760dbfc4-7c48-4bbd-bba0-671268ddf2f1",
   "metadata": {},
   "outputs": [],
   "source": [
    "def annotation(frame, coord):\n",
    "    \n",
    "    for k in range(len(coord)-1):\n",
    "        \n",
    "        frame = cv2.circle(frame, coord[k], circle_radius, blue,circle_thicknes)\n",
    "        frame = cv2.line(frame, coord[k], coord[k+1], blue, line_thickness)  \n",
    "\n",
    "    return frame"
   ]
  },
  {
   "cell_type": "markdown",
   "id": "f25b4e80-c817-4a70-b80b-5cc8a162755b",
   "metadata": {},
   "source": [
    "## 3. Global Path <a class=\"anchor\" id=\"global_path\"></a>\n",
    "\n"
   ]
  },
  {
   "cell_type": "markdown",
   "id": "cd7badd0-e805-4c63-b463-4bd90d6a6524",
   "metadata": {},
   "source": [
    "\n",
    "### 3.1. Overall Path Strategy <a class=\"anchor\" id=\"path_strategy\"></a>\n",
    "\n",
    "Space is a hostile place where a lot of unpredictable things can happen. We therefore wanted a robust system that is resilient to changes in object placements, and changes to camera placement. A system that updates these position at each timestep will be resilient to any changes. However, computing object placements and computing the global path takes time. We therefore chose to move the robot in steps of ~5cm after which we recompute positions and global path. This has the drawback of our robot stopping every ~5cm. The advantage is that any new objects will be detected quickly, and if the goal is moved, the robot will quickly adjust its path. It also has the advantage that kidnapping is very easy to sort out.\n",
    "\n",
    "If we do not get any input from the camera, we rely on the last calculated global path and the position and angle estimated by the robot itself. \n",
    "\n",
    "The angle of the robot is calculated by both the camera and the robot. For each step the robot turns a certain amount and from this it knows its angle. The camera can also calculate the angle of the tracetory of the robot when looking at two timesteps, and from this calculate the angle. The angle used by the system is the average of these two calculated angles. \n",
    "\n",
    "With this overall architecture of the global path we are able to be kidnapped and quickly find our position and relatively quickly find the angle of the robot."
   ]
  },
  {
   "cell_type": "markdown",
   "id": "086c97c2-232e-451e-a1dd-74049f0ca74c",
   "metadata": {},
   "source": [
    "### 3.2. Global Path Planning <a class=\"anchor\" id=\"global_path_planning\"></a>\n",
    "\n",
    "To succesfully navigate an environment a path needs to be computed. For our 'space' environment we wanted a path close to the optimal path and a efficient computation. Visibility graphs are very efficient and can find the optimal path. However, with round planets this does not work because of the missing edges. While the planets could be approximated with polygons to be used with the visibility graph, we did not chose this for our project \n",
    "\n",
    "The A* algorithm is optimal and relatively efficient to compute which is why we chose this method. The A* algorithm works on a grid with discrete points and therefore has a tradeoff between resolution and computation time. For the map a resolution of 100x70 was chosen since this is the same aspect ratio as the camera used. This offers a computation time of around 70ms for the gloabl path as seen below. Since A* operates with discrete points the path is not necessarily straight between two points. The A* algorithm implemented here uses 16 directions as the standard, which results in the blue path shown in the figure below. As mentioned before this path is not straight between point. To solve this the path is modified by a line of sight algorithm. This algorithm draws a line to the furthest possible point and removes all intermediate points. This process is repeated from the next point. Since our robot operates from point to point a too long path, the long segments are divided into subsegment with a max length of 4. This results in the red path. This path has a lot less points and goes in a straight line between points. \n",
    "\n",
    "As seen in the figure below, the optimal path goes all the way to the edge of the black parts of the map. This is because the radius of the robot is added to the radius of the black holes in the map, when driving the robot along the path we thereby avoid hitting the black holes.\n",
    "\n",
    "Sources : \n",
    "https://en.wikipedia.org/wiki/A*_search_algorithm \n",
    "Class exercises for code parts\n",
    "\n"
   ]
  },
  {
   "cell_type": "markdown",
   "id": "f14e9f5c-d648-4053-90ef-2e8f0e1c470d",
   "metadata": {},
   "source": [
    "### 3.3. Global path function <a class=\"anchor\" id=\"global_path_function\"></a>"
   ]
  },
  {
   "cell_type": "markdown",
   "id": "88c307ea-75ed-4497-a8a3-83830d713a62",
   "metadata": {},
   "source": [
    "#### 3.3.1. Packages required<a class=\"anchor\" id=\"global_path_packages\"></a>\n",
    "\n",
    "\n",
    "- pandas\n",
    "- matplotlib\n",
    "- time\n",
    "- math"
   ]
  },
  {
   "cell_type": "markdown",
   "id": "a9901d58-4fe0-4c68-9609-475e481bad65",
   "metadata": {},
   "source": [
    "#### 3.3.2. Functions explanations <a class=\"anchor\" id=\"global_path_explanation\"></a>\n",
    "\n",
    "To initialize the global path object the following command is used with the desired amount of movement directions. \n",
    "~~~\n",
    "global_nav = Global_nav(movements='8N')\n",
    "~~~\n",
    "\n",
    "To convert the camera output to the input of the global path this command is used: \n",
    "~~~\n",
    "start, goal, earth, robot_radius, earth_radius, black_holes_centers, black_holes_radiuss,scale_factor = global_nav.convert_OPENCV_tovalues(coordinates)\n",
    "~~~\n",
    "\n",
    "To create the map that the A* algorthm uses the create_map is used. This gives the occupancy grid with the black holes shown below. \n",
    "~~~\n",
    "occ, _,_=  global_nav.create_map( goal = goal ,black_holes_centers = black_holes_centers,black_holes_radiuss=black_holes_radiuss)\n",
    "~~~\n",
    "\n",
    "Finally when the object has created the occupancy grid the optimal path can be computed with the following command. Here the opti_path which gives the optimal path in straight segments is what we use for the global navigation.\n",
    "~~~~\n",
    "opti_path, path, closed, open = global_nav.get_path_straight(start=start,goal=goal)\n",
    "~~~~\n",
    "\n",
    "\n",
    "\n",
    "\n",
    "Overall the global_nav object takes in as input :\n",
    "- start                     : a list with x and y positions of the robot\n",
    "-  goal                     : a list with x and y positions of mars\n",
    "-  black_holes_centers      :  a list with x and y positions of blackholes\n",
    "-  black_holes_radius          :  a  a list with radius of blackholes\n",
    "   \n",
    "and return as output :\n",
    "- a path                    : array x,y coordinates from the robot to mars avoiding black holes \n"
   ]
  },
  {
   "cell_type": "markdown",
   "id": "e3d17778-1210-495b-90a7-487ddccd83b1",
   "metadata": {},
   "source": [
    " #### 3.3.3. Example of global path <a class=\"anchor\" id=\"global_path_example\"></a>\n"
   ]
  },
  {
   "cell_type": "code",
   "execution_count": 1,
   "id": "a460f469-936e-442a-ba81-0bdce01ee202",
   "metadata": {},
   "outputs": [],
   "source": [
    "from path_object import*\n",
    "global_nav = Global_nav(movements='8N')\n",
    "coordinates =  [['robot', [0.05, 0.95, 0.09, 0.13], 0.965], ['mars', [0.95, 0.05, 0.08, 0.08], 0.902], ['earth', [0.05, 0.95, 0.08, 0.1], 0.942], ['blackholes', [0.2, 0.85, 0.11, 0.15], 0.906], ['blackholes', [0.25, 0.45, 0.09, 0.09], 0.896], ['blackholes', [0.65, 0.25, 0.06, 0.08], 0.876], ['blackholes', [0.8, 0.4, 0.07, 0.08], 0.867]]"
   ]
  },
  {
   "cell_type": "code",
   "execution_count": 2,
   "id": "7dd38d11-bbba-4be4-b843-bf385dedc145",
   "metadata": {},
   "outputs": [
    {
     "name": "stdout",
     "output_type": "stream",
     "text": [
      "CPU times: user 94.3 ms, sys: 2.09 ms, total: 96.4 ms\n",
      "Wall time: 95.5 ms\n"
     ]
    }
   ],
   "source": [
    "%%time\n",
    "start, goal, earth, robot_radius, earth_radius, black_holes_centers, black_holes_radiuss,scale_factor = global_nav.convert_OPENCV_tovalues(coordinates)\n",
    "occ, _,_=  global_nav.create_map( goal = goal ,black_holes_centers = black_holes_centers,black_holes_radiuss=black_holes_radiuss)\n",
    "opti_path, path, closed, open = global_nav.get_path_straight(start=start,goal=goal)"
   ]
  },
  {
   "cell_type": "code",
   "execution_count": 3,
   "id": "b60bea57-ba3b-4b85-8aa3-bd818a5f676f",
   "metadata": {},
   "outputs": [
    {
     "data": {
      "image/png": "[encoded data removed]",
      "text/plain": [
       "<Figure size 1000x750 with 1 Axes>"
      ]
     },
     "metadata": {},
     "output_type": "display_data"
    }
   ],
   "source": [
    "plt.figure(figsize=(10,7.5))\n",
    "plt.imshow(occ.transpose(), cmap='Greys', origin='lower')\n",
    "plt.scatter([x[0] for x in closed], [x[1] for x in closed], c='grey',s=5, alpha=0.3)\n",
    "plt.scatter([x[0] for x in black_holes_centers], [x[1] for x in black_holes_centers], c='grey',s=100)\n",
    "plt.scatter(earth[0],earth[1], c='green',s=300)\n",
    "plt.scatter(goal[0],goal[1], c='orange',s=300)\n",
    "plt.scatter([x[0] for x in path], [x[1] for x in path],color = 'b',s=5)\n",
    "plt.scatter([x[0] for x in opti_path], [x[1] for x in opti_path], c='r',s=15)\n",
    "plt.plot([x[0] for x in opti_path], [x[1] for x in opti_path], c='r', alpha=0.5)\n",
    "plt.legend(['Investigated nodes','Black holes centers', 'Earth', 'Mars' , 'A* path', 'Optimized path'])\n",
    "plt.show()"
   ]
  },
  {
   "cell_type": "markdown",
   "id": "c785a991-23a3-43f3-a775-39b235a3f4a4",
   "metadata": {},
   "source": [
    "## 4. Local Navigation <a class=\"anchor\" id=\"local_navigation\"></a>\n",
    "\n",
    "Thymio needs to avoid obstacles, in this case asteroids, as it travels through space. To do this, we call the function local_avoidance() that allows Thymio to avoid the obstacle and continue it way to Mars.\n",
    "\n",
    "Sources:\n",
    "\n",
    "Solutions Week 3 - Artificial neural networks.ipynb, \"Basics of Mobile Robotics\" by Prof. Mondada, EPFL\n",
    "\n"
   ]
  },
  {
   "cell_type": "markdown",
   "id": "c2f1543d-0b6f-41ae-845a-ed40daad595a",
   "metadata": {},
   "source": [
    "### 4.1. Local Navigation Function <a class=\"anchor\" id=\"local_navigation_function\"></a>\n",
    "\n",
    "#### Input:\n",
    "- Current motors speed, horizontal proximity sensors values\n",
    "\n",
    "This function will take the current value of the motors and, depending on the weights and values of the various sensors, adjust the values of the motors so that it dodges the obstacle.\n",
    "\n",
    "#### Output:\n",
    "- new motor values (new motor_left_target,motor_right_target) allowing to avoid the obstacle\n",
    "- To avoid the robot to be blocked when it faces a front obstacle we adjust the weight so that it has a higher tendency to go on left.\n",
    "\n",
    "#### Call:\n",
    "- At each step of global navigation\n",
    "\n",
    "In reality, when the global path function is called, it generates a path with segments. It then calls the   drive() function, which splits the segment into 10 smaller segments. This is where we call the get_prox() function to compare the value of the proximity sensors with our WALL_THRESHOLD. This method gives the robot better detection on its path between two points on the layout.\n",
    "\n",
    "#### Limitations:\n",
    "The first limitation of this implementation lies in the call. Dividing the distance between 2 points into smaller distances partially solves the problem, because if an obstacle appears between these two smaller distances, the previous problem reappears. However, we don't do this when we're turning, which may mean that the robot doesn't detect obstacles properly when repositioning itself. \n",
    "A better approach would have been to use two different threads in parallel. Because what can happen is that the robot oscillates between the global_path() and local_navigation() functions and jerks. "
   ]
  },
  {
   "cell_type": "markdown",
   "id": "f489b8ef-f42e-4e67-a39a-95929d12810f",
   "metadata": {},
   "source": [
    "### 4.2. Keys parameters <a class=\"anchor\" id=\"key_parameters\"></a>\n",
    "\n",
    "| Name | Meaning | Type (Unit) | Global|\n",
    "|-----------|-----------|-----------|-----------|\n",
    "|max_allowed_speed|Limit the speed outpout of the motor in local_navigation|int|no|\n",
    "|mem_sensor|Store the values of the 5 front sensors get by get_prox()|int|no|\n",
    "|sensor_scale|Rescale the output value of the sensors|int|no|\n",
    "|WALL_THRESHOLD|Threshold to determined when there is an obsctacle|int|yes||\n",
    "|ROBOT_SPEED|Current robot speed|int|yes|"
   ]
  },
  {
   "cell_type": "markdown",
   "id": "4f1e95e8-19aa-4a23-8cee-0f199e702ff5",
   "metadata": {},
   "source": [
    "## 5. Motion control <a class=\"anchor\" id=\"motion_control\"></a>\n",
    "\n"
   ]
  },
  {
   "cell_type": "markdown",
   "id": "0494609f-4319-47be-8630-250dcbb401a0",
   "metadata": {},
   "source": [
    "### 5.1. Drive functions <a class=\"anchor\" id=\"drive\"></a>\n",
    "\n",
    "The drive function works by sleeping for the amount of s required to drive a distance of X [cm]. We started off by calibrating the robot: the Thymio used for our project drives 6cm in 1s. This gives us a speed_drive = 6 cm/s for a motor speed of 150. The time the robot needs to sleep to drive a distance is: dist/speed_drive = [s]\n",
    "\n",
    "The driving is split into two functions: one that simply sets the speed of the motors to the desired speed, and another one that sets calculates the time the robot has to drive and makes it drive for that amount of seconds using time.sleep() [s]."
   ]
  },
  {
   "cell_type": "code",
   "execution_count": 6,
   "id": "41aa6d62-a3df-46b7-8f34-3992759a1124",
   "metadata": {},
   "outputs": [],
   "source": [
    "CM_SEC = 6 # 6 cm per second at motor speed 150 used for driving straigt\n",
    "WALL_THRESHOLD = 500\n",
    "\n",
    "@tdmclient.notebook.sync_var\n",
    "# drive straight with \"speed\" (motor speed)\n",
    "def motors_drive(l_speed=500, r_speed=500):\n",
    "    global motor_left_target, motor_right_target\n",
    "    \n",
    "    motor_left_target = l_speed\n",
    "    motor_right_target = r_speed\n",
    "\n",
    "# drive \"dist\" [cm]\n",
    "def drive(dist=10):\n",
    "    global WALL_THRESHOLD, ROBOT_SPEED\n",
    "    motors_drive(ROBOT_SPEED,ROBOT_SPEED) #test with lower speed value\n",
    "    for i in range(10):\n",
    "        time.sleep((dist/(CM_SEC))/10) # divide one segment into 10 smaller segments \n",
    "        if max(get_prox()) > WALL_THRESHOLD:\n",
    "            print(\"obstacle detected\")\n",
    "            local_navigation()\n",
    "            break\n",
    "    motors_drive(0,0)"
   ]
  },
  {
   "cell_type": "markdown",
   "id": "f075b92a-5a9b-40cc-80ef-d4d1fc33df55",
   "metadata": {},
   "source": [
    "### 5.2. Turn functions <a class=\"anchor\" id=\"turn\"></a>\n",
    "\n",
    "The turn function works in a very similar way: there is one function that makes the robot turn in a circle on the spot - clockwise and anticlockwise.\n",
    "\n",
    "Note that if the angle is positive, the robot turns clockwise. The speed of turning for a motor speed of 100 is speed_turn = 360°/9s.\n",
    "\n",
    "The Thymio needs to sleep for degrees/speed_turn."
   ]
  },
  {
   "cell_type": "code",
   "execution_count": 7,
   "id": "0faa2806-7a65-4f0d-bb47-214d94fb0839",
   "metadata": {},
   "outputs": [],
   "source": [
    "SEC_REVOLUTION = 9 # 9 seconds for 360 degrees at motor speed 100 used for turning\n",
    "\n",
    "@tdmclient.notebook.sync_var \n",
    "# turn in a circle with \"speed\" (motor speed)\n",
    "def motors_turn(speed=100):\n",
    "    global motor_left_target, motor_right_target\n",
    "    motor_left_target = -speed\n",
    "    motor_right_target = speed\n",
    "    \n",
    "@tdmclient.notebook.sync_var \n",
    "def motors_turn_right(speed=100):\n",
    "    global motor_left_target, motor_right_target\n",
    "    motor_left_target = speed\n",
    "    motor_right_target = -speed\n",
    "\n",
    "# turn \"angle\" [degrees] anticlockwise\n",
    "def turn_degrees(angle):\n",
    "    if angle < 0:\n",
    "        motors_turn()\n",
    "        time.sleep(abs(angle)*SEC_REVOLUTION/360) # 18s for 360° turn with motor speed = 100\n",
    "        motors_turn(speed=0)\n",
    "    else:\n",
    "        motors_turn_right()\n",
    "        time.sleep(abs(angle)*9/360)\n",
    "        motors_turn_right(speed=0)"
   ]
  },
  {
   "cell_type": "markdown",
   "id": "4f2cd297-d981-4c11-be3b-04f56a86f7f7",
   "metadata": {},
   "source": [
    "## 6. Filtering <a class=\"anchor\" id=\"filtering\"></a>"
   ]
  },
  {
   "cell_type": "code",
   "execution_count": 11,
   "id": "6b03e6a4",
   "metadata": {},
   "outputs": [],
   "source": [
    "# Imports\n",
    "import numpy as np\n",
    "import math\n",
    "\n",
    "import matplotlib.pyplot as plt\n",
    "import seaborn as sn \n",
    "\n",
    "# Constants\n",
    "P_HIT = 0.8 # Probability that the robot moved to the correct position (or \"pixel\")\n",
    "P_MISS = 0.2/8 # Probability that the robot moved to one of the 8 neighbouring \"pixel\"\n"
   ]
  },
  {
   "cell_type": "markdown",
   "id": "e7f00afb-c9de-4cd4-86f6-1bf98d6834ca",
   "metadata": {},
   "source": [
    "### 6.1. Introduction to the Markov Filter <a class=\"anchor\" id=\"markov_filter\"></a>"
   ]
  },
  {
   "cell_type": "markdown",
   "id": "8445cfae-e328-445b-9308-41b4f1fbc3f6",
   "metadata": {},
   "source": [
    "To get a better accuracy of the position of the robot, a Markov Localisation Filter is used. It is based on the Bayes Filter. The Markov process consists of a sequence of states, where each future state only depends on the current state. Markov Localization is particularly useful in scenarios where the environment is partially observable, and there is uncertainty in both the robot's actions and sensor measurements.\n",
    "\n",
    "The filtering is done after each segment of the global path that the robot has driven\n",
    "\n",
    "This is the Markov function:\n",
    "> x_filtered_pos_robot, y_filtered_pos_robot = markov(x_robot,y_robot,x_CV,y_CV,confindence_CV,first_step)\n",
    "\n",
    "Input:\n",
    "- belief position of the robot based on the global path (x_robot,y_robot)\n",
    "- position of the robot given by CV (x_CV,y_CV)\n",
    "- confidence of the robot's position given by CV\n",
    "- first_step: True if it the robot has just driven the first segment of the global path, False otherwise\n",
    "\n",
    "\n",
    "Output:\n",
    "- more accurate position of the robot (x,y)\n",
    "\n",
    "Source: \"MOBILE ROBOTS 7/8 - Uncertainties\" from Prof. Mondada of the class \"Basics of Mobile Robotics\", MICRO-452, EPFL."
   ]
  },
  {
   "cell_type": "markdown",
   "id": "bfc69a54-dd6c-4b6a-8af5-d2b32a02e930",
   "metadata": {},
   "source": [
    "### 6.2. Implementation of the Markov Filter <a class=\"anchor\" id=\"application_filter\"></a>\n",
    "\n",
    "The algorithm consists of the following steps: \n",
    "\n",
    "- Initialize the maps\n",
    "- Belief state\n",
    "- Sensor update\n",
    "- Motion update\n",
    "- Calculation step\n",
    "- Recursive estimation\n",
    "\n",
    "\n",
    "Decisions taken:\n",
    "\n",
    "The size of the camera frame is: 480x640 - height x width. We chose the map to have the size of 75 x 100 which has the same ratio as the camera frame.\n",
    "We assume that the motion control of the robot is accurate 80% of the time and that the robot is otherwise going to be on a neighbouring pixel with a probability of 0.2/8 (there are 8 neighbouring pixels)."
   ]
  },
  {
   "cell_type": "markdown",
   "id": "a2366710-f0bf-41ad-aeaa-59aba2f33e76",
   "metadata": {},
   "source": [
    "#### 6.2.1. Initialisation of the map <a class=\"anchor\" id=\"map_initialisation\"></a>\n",
    "\n",
    "This step is done once at the start of the program. To compute the Markov filter, we need three maps of the same size (75x100) \"pixels\". Please note that \"pixels\" refers to the individual squares on the map, not the camera pixels. The base map (map) is inisialized with a base probability of 1/(width*height) of the map. The map_estimate_robot and the map_estimate_CV containing the belief and measured position of the robot respecitively, are empty."
   ]
  },
  {
   "cell_type": "code",
   "execution_count": 4,
   "id": "52f161f3-38d1-4529-93a3-c7214691c527",
   "metadata": {},
   "outputs": [],
   "source": [
    "# map: each square has the prob = 1/(height * length)\n",
    "# map_estimate_robot: empty map with size height x length\n",
    "# map_estimate_CV: empty map with size height x length\n",
    "def initialize_maps(length,height):\n",
    "    global map, map_estimate_robot, map_estimate_CV\n",
    "    \n",
    "    # initialize map\n",
    "    start_prob = 1/(length*height)\n",
    "    map = np.empty((length,height), float)\n",
    "    map.fill(start_prob)\n",
    "    #display_heatmap(map)\n",
    "\n",
    "    # initialize map_estimate_robot\n",
    "    map_estimate_robot = np.empty((length,height), float)\n",
    "    map_estimate_robot.fill(0.0)\n",
    "\n",
    "    # initialize map_estimate_CV\n",
    "    map_estimate_CV = np.empty((length,height), float)\n",
    "    map_estimate_CV.fill(0)\n"
   ]
  },
  {
   "cell_type": "markdown",
   "id": "87a88cd3-a398-464d-930e-346fa9fa68cc",
   "metadata": {},
   "source": [
    "#### 6.2.2. State belief <a class=\"anchor\" id=\"state_belief\"></a>\n",
    "\n",
    "In our case, the belief state corresponds to the position the robot is supposed to have after having driven a segment according to the global path. It is therefore simply equal to the current step of the global path. The probability that the robot is in the \"pixel\" it is supposed to be in is 0.8. The probability that it's in one of the surrounding pixels is 0.8/8 (there are 8 surrounding pixels).\n",
    "\n",
    "\n"
   ]
  },
  {
   "cell_type": "code",
   "execution_count": 5,
   "id": "3be5d885-0cb6-4b9f-b0d6-9d7f363a5d6e",
   "metadata": {},
   "outputs": [],
   "source": [
    "def estimate_robot(x,y):\n",
    "    global map_estimate_robot   \n",
    "    \n",
    "    # reset map to 0.0\n",
    "    map_estimate_robot.fill(0.0)\n",
    "\n",
    "    # the robot has a probability of P_HIT to be on the \"pixel\" is should be on\n",
    "    map_estimate_robot[x][y] = P_HIT\n",
    "    # the robot has a probability of P_MISS to be on a neighbouring \"pixel\"\n",
    "    neighbouring_pixels(x,y,P_MISS,map_estimate_robot)\n",
    "\n",
    "\n",
    "\n",
    "\n",
    "# Function to update the probabilities of the neighboring pixels\n",
    "def neighbouring_pixels(x,y,prob,any_map):\n",
    "    global map_estimate_robot\n",
    "    \n",
    "    length,height = np.shape(any_map)\n",
    "\n",
    "    # the if-statements make sure that we stay within any_map of dimensions length x height\n",
    "\n",
    "    if (x-1 >= 0):    \n",
    "        # Left row of neighbors\n",
    "        if (y-1 >= 0):\n",
    "            any_map[x-1][y-1] = prob\n",
    "        any_map[x-1][y] = prob\n",
    "        if (y+1 <= (height-1)):\n",
    "            any_map[x-1][y+1] = prob\n",
    "\n",
    "        # Middle row of neighbors\n",
    "        if (y-1 >= 0):\n",
    "            any_map[x][y-1] = prob\n",
    "\n",
    "        any_map[x][y+1] = prob\n",
    "\n",
    "    if (x+1 <= (length-1)):\n",
    "        # Right row of neighbors\n",
    "        if (y-1 >= 0):\n",
    "            any_map[x+1][y-1] = prob\n",
    "        any_map[x+1][y] = prob\n",
    "        if (y+1 <= (height-1)):\n",
    "            any_map[x+1][y+1] = prob"
   ]
  },
  {
   "cell_type": "markdown",
   "id": "5697a0be-7e1e-4a54-9887-e75967b8be08",
   "metadata": {},
   "source": [
    "#### 6.2.3. Sensor update <a class=\"anchor\" id=\"sensor_update\"></a>\n",
    "\n",
    "The CV gives the position of the robot and also a confidence value. The given position has a confindence of that confidence value, the surrounding \"pixels\" have a probability of (1-confidence)/8 (there are 8 surrounding pixels)."
   ]
  },
  {
   "cell_type": "code",
   "execution_count": 6,
   "id": "1e93941a-b54a-4868-9eca-73f459fb5923",
   "metadata": {},
   "outputs": [],
   "source": [
    "def estimate_CV(x,y,confidence_CV):\n",
    "    # reset map to 0\n",
    "    map_estimate_CV.fill(0)\n",
    "\n",
    "    # add prob\n",
    "    MEAS_P_HIT = confidence_CV\n",
    "    MEAS_P_MISS = (1-confidence_CV)/8\n",
    "\n",
    "    # confidence that the CV gave the correct position\n",
    "    map_estimate_CV[x][y] = MEAS_P_HIT\n",
    "    # probability that the CV thinks that the robot is on a neighbouring \"pixel\"\n",
    "    neighbouring_pixels(x,y,MEAS_P_MISS,map_estimate_CV)\n",
    "    "
   ]
  },
  {
   "cell_type": "markdown",
   "id": "8bd30973-6950-458a-b6da-0174f36b72d2",
   "metadata": {},
   "source": [
    "#### 6.2.4. Motion update and Calculation step <a class=\"anchor\" id=\"calculation_step\"></a>\n",
    "\n",
    "There is no need for a motion update as the global path is simply recalculated after each segment of the global path based on the position given by the filter.\n",
    "\n",
    "The map, map_estimate_CV, and map_estimate_robot are multiplied and subsequently normalized so that the sum of all the elements in the map is equal to 1.\n",
    "\n",
    "The function filtered_pos_robot() finds the indexes of the \"pixel\" in the map that has the highest probability. If there are multiple pixels that have the same probability, the function multiple_highest_prob_with_same_value(pos_robot,indices) returns the \"pixel\" that is the closest to the belief position of the robot"
   ]
  },
  {
   "cell_type": "code",
   "execution_count": 7,
   "id": "5f501d08-5de8-4d7b-a676-d5e22364f867",
   "metadata": {},
   "outputs": [],
   "source": [
    "# Function to multiply probability maps and update the global map variable\n",
    "def multiply_maps():\n",
    "    global map, map_estimate_CV, map_estimate_robot\n",
    "\n",
    "    # Multiply the probability maps of computer vision (CV) and robot belief position\n",
    "    temp = np.multiply(map_estimate_CV,map_estimate_robot)\n",
    "    \n",
    "    # if the estimated position of the robot and by CV are too far apart, or the last position of the robot and its position now, the whole map after multiplication is = 0\n",
    "    # in this case, set map = map_estimate_robot as it is less likely that the position measured by the robot is off by a lot than the CV\n",
    "    \n",
    "    if (not np.any(temp)):\n",
    "        # If the multiplication results in all zeros, retain the current map value\n",
    "        map = map\n",
    "    else:\n",
    "         # Update map by multiplying it with the temporary result\n",
    "        map = np.multiply(map,temp)\n",
    "    if (not np.any(map)):\n",
    "         # If the resulting map is all zeros, update map to map_estimate_CV\n",
    "        map = map_estimate_CV\n",
    "\n",
    "\n",
    "\n",
    "# Function to normalize the values in map such that the sum of all elements is 1\n",
    "def normalize_map():\n",
    "    global map\n",
    "  \n",
    "    # Calculate the sum of all values in the map array\n",
    "    sum = np.sum(map)\n",
    "     # Divide each element in the map array by the sum to normalize the values\n",
    "    map = np.divide(map,sum)\n",
    "    \n",
    "\n",
    "# if multiple \"pixels\" have the same probability, we choose the one that is closest to the position of the robot\n",
    "def multiple_highest_prob_with_same_value(pos_robot,indices):\n",
    "\n",
    "    # save estimated position of robot, estimated by itself\n",
    "    pos_robot_x = pos_robot[0].item()\n",
    "    pos_robot_y = pos_robot[1].item()\n",
    "    point = np.array([pos_robot_x, pos_robot_y])\n",
    "\n",
    "    # put values of pos with the same highest prob in a table, table[0] -> x, table[1] -> 1\n",
    "    table = np.array(indices).tolist()\n",
    "\n",
    "    # Transpose the table array\n",
    "    table_array = np.array(table).T\n",
    "\n",
    "    # Calculate Euclidean distances\n",
    "    distances = np.linalg.norm(table_array - point, axis=1)\n",
    "\n",
    "    # Find the index of the minimum distance\n",
    "    closest_index = np.argmin(distances)\n",
    "    X_ROBOT = table[0][closest_index]\n",
    "    Y_ROBOT = table[1][closest_index]\n",
    "\n",
    "    return X_ROBOT,Y_ROBOT\n",
    "\n",
    "\n",
    "\n",
    "def filtered_pos_robot():\n",
    "    # Find indices where the maximum value occurs in map\n",
    "    indices = np.where(map == map.max())\n",
    "    # Find indices where the maximum value occurs in map_estimate_robot\n",
    "    pos_robot = np.where(map_estimate_robot == map_estimate_robot.max())\n",
    "    \n",
    "    # Check if there is a single pair of coordinates in indices\n",
    "    if (np.size(indices)==2): \n",
    "        # If there is only one maximum, assign X_ROBOT and Y_ROBOT directly\n",
    "        X_ROBOT = indices[0].item()\n",
    "        Y_ROBOT = indices[1].item()\n",
    "    else:\n",
    "        # If there are multiple maxima, use a function to resolve the conflict\n",
    "        X_ROBOT, Y_ROBOT = multiple_highest_prob_with_same_value(pos_robot,indices)\n",
    "    \n",
    "    # Return the X and Y coordinates of the robot\n",
    "    return X_ROBOT,Y_ROBOT"
   ]
  },
  {
   "cell_type": "markdown",
   "id": "9ddebdc5-2e87-4f4d-8346-63cbbb01d411",
   "metadata": {},
   "source": [
    "#### 6.2.5. Heatmap plot <a class=\"anchor\" id=\"heatmap\"></a>\n",
    "\n",
    "Plotting the heatmap: This function plots a heatmap using the seaborn library. This helps visualize the probabilities of the different \"pixels\".\n",
    "\n"
   ]
  },
  {
   "cell_type": "code",
   "execution_count": 8,
   "id": "6b9a1760-df85-494d-b022-e955d9cf93ae",
   "metadata": {},
   "outputs": [],
   "source": [
    "# displays the heatmap of data_to_display\n",
    "def display_heatmap(data_to_display):\n",
    "    displayed_map = sn.heatmap(data = data_to_display, annot=False, linewidth=.5, vmin=0, vmax=1.0) \n",
    "    displayed_map.invert_yaxis()"
   ]
  },
  {
   "cell_type": "markdown",
   "id": "d98b64d3-9f4c-44af-94e1-c851c4bb9769",
   "metadata": {},
   "source": [
    "#### 6.2.6.Markov function <a class=\"anchor\" id=\"m_function\"></a>\n",
    "\n",
    "\n",
    "Finally, this is the function that runs the Markov filter.\n",
    "\n",
    "As (x_CV,y_CV) is a float, it needs to be converted to an integer before being used by the Markov filter. We chose a 64bit integer and to round down (x_CV,y_CV)."
   ]
  },
  {
   "cell_type": "code",
   "execution_count": 9,
   "id": "a8b13b28-271a-44a6-9d21-4a12fa3a70cb",
   "metadata": {},
   "outputs": [],
   "source": [
    "def markov(x_robot,y_robot,x_CV,y_CV,confindence_CV,first_step):\n",
    "    global map\n",
    "    # Initialize local variables\n",
    "    x_filtered_pos_robot = 0\n",
    "    y_filtered_pos_robot = 0\n",
    "    # take integer value (rounded down)\n",
    "    x_robot = np.int64(x_robot)\n",
    "    y_robot = np.int64(y_robot)\n",
    "    x_CV = np.int64(x_CV)\n",
    "    y_CV = np.int64(y_CV)\n",
    "    \n",
    "    # Running the Markov Filter\n",
    "    estimate_robot(x_robot,y_robot)\n",
    "    estimate_CV(x_CV,y_CV,confindence_CV)\n",
    "    multiply_maps()\n",
    "    normalize_map()\n",
    "    x_filtered_pos_robot, y_filtered_pos_robot = filtered_pos_robot()\n",
    "\n",
    "    # if the distance between the x and y position given by the robot and \n",
    "    # the CV are different by more than 3 \"pixels\",\n",
    "    # which means that none of the \"pixels\" of the map_estimate_robot and \n",
    "    # #map_estimate_CV overlap (the resulting multiplied map is empty),\n",
    "    # we take the position given by CV as the filtered position value.\n",
    "    # Also, if it is the first iteration of the Markov filter, we take the \n",
    "    # position given by CV as the filtered position value\n",
    "    if ((abs(x_CV-x_robot) >= 3) or (abs(x_CV-x_robot) >= 3) or first_step):\n",
    "        x_filtered_pos_robot = x_CV\n",
    "        y_filtered_pos_robot = y_CV\n",
    "        #update map\n",
    "        map[x_filtered_pos_robot][y_filtered_pos_robot] = P_HIT\n",
    "        neighbouring_pixels(x_filtered_pos_robot,y_filtered_pos_robot,P_MISS,map)\n",
    "        \n",
    "\n",
    "\n",
    "    return x_filtered_pos_robot, y_filtered_pos_robot"
   ]
  },
  {
   "cell_type": "markdown",
   "id": "2fd4996d",
   "metadata": {},
   "source": [
    "The maps below illustrate what the probability distribution looks like for a certain belief position of the robot.\n",
    "\n",
    "Ntoe that in the heatmap, the vertical axis is the x-axis and the horizontal axis is the y-axis.\n"
   ]
  },
  {
   "cell_type": "code",
   "execution_count": 12,
   "id": "936088fb",
   "metadata": {},
   "outputs": [
    {
     "name": "stdout",
     "output_type": "stream",
     "text": [
      "[[0.    0.    0.    0.    0.    0.    0.    0.    0.    0.   ]\n",
      " [0.    0.    0.    0.    0.    0.    0.    0.    0.    0.   ]\n",
      " [0.    0.    0.    0.    0.    0.    0.    0.    0.    0.   ]\n",
      " [0.    0.    0.    0.    0.    0.    0.    0.    0.    0.   ]\n",
      " [0.    0.    0.    0.    0.    0.025 0.025 0.025 0.    0.   ]\n",
      " [0.    0.    0.    0.    0.    0.025 0.8   0.025 0.    0.   ]\n",
      " [0.    0.    0.    0.    0.    0.025 0.025 0.025 0.    0.   ]\n",
      " [0.    0.    0.    0.    0.    0.    0.    0.    0.    0.   ]\n",
      " [0.    0.    0.    0.    0.    0.    0.    0.    0.    0.   ]\n",
      " [0.    0.    0.    0.    0.    0.    0.    0.    0.    0.   ]]\n"
     ]
    },
    {
     "data": {
      "image/png": "[encoded data removed]",
      "text/plain": [
       "<Figure size 640x480 with 2 Axes>"
      ]
     },
     "metadata": {},
     "output_type": "display_data"
    }
   ],
   "source": [
    "# to make it easier to see, this map has a size of 10x10 \"pixels\"\n",
    "# please note that the surrounding pixels have a probability of 0.025 which has the color dark blue and is therefore not visible\n",
    "initialize_maps(10,10)\n",
    "estimate_robot(5,6)\n",
    "\n",
    "# printed map containing the belief position of the robot\n",
    "print(map_estimate_robot)\n",
    "# heatmap \n",
    "display_heatmap(map_estimate_robot)\n",
    "\n"
   ]
  },
  {
   "cell_type": "markdown",
   "id": "2d966d71",
   "metadata": {},
   "source": [
    "The following code is an example of the Markov filter used in this project."
   ]
  },
  {
   "cell_type": "code",
   "execution_count": 13,
   "id": "892fb3b0",
   "metadata": {},
   "outputs": [
    {
     "name": "stdout",
     "output_type": "stream",
     "text": [
      "filtered value of the x position of the robot:  5\n",
      "filtered value of the y position of the robot:  7\n"
     ]
    },
    {
     "data": {
      "image/png": "[encoded data removed]",
      "text/plain": [
       "<Figure size 640x480 with 2 Axes>"
      ]
     },
     "metadata": {},
     "output_type": "display_data"
    }
   ],
   "source": [
    "# on the first iteration of the Markov filter, the maps have to be initialized\n",
    "initialize_maps(10,10)\n",
    "\n",
    "# belief position of robot\n",
    "x_robot = 5\n",
    "y_robot = 6\n",
    "# CV\n",
    "x_CV = 5\n",
    "y_CV = 7\n",
    "confid_CV = 0.82\n",
    "first_step = 0 # this is set to False in this case, to better showcase the filter\n",
    "# Markov Filter\n",
    "x_filtered_robot, y_filtered_robot = markov(x_robot,y_robot,x_CV,y_CV,confid_CV,first_step)\n",
    "\n",
    "# visualization\n",
    "print(\"filtered value of the x position of the robot: \", x_filtered_robot)\n",
    "print(\"filtered value of the y position of the robot: \", y_filtered_robot)\n",
    "display_heatmap(map)"
   ]
  },
  {
   "cell_type": "markdown",
   "id": "9bdae214",
   "metadata": {},
   "source": [
    "If there is a big difference between the belief position of the robot and the position given by CV, we choose the filtered position to be the position given by CV. This also allows us to handle kidnapping."
   ]
  },
  {
   "cell_type": "code",
   "execution_count": 14,
   "id": "94194f0c",
   "metadata": {},
   "outputs": [
    {
     "name": "stdout",
     "output_type": "stream",
     "text": [
      "filtered value of the x position of the robot:  3\n",
      "filtered value of the y position of the robot:  2\n"
     ]
    },
    {
     "data": {
      "image/png": "[encoded data removed]",
      "text/plain": [
       "<Figure size 640x480 with 2 Axes>"
      ]
     },
     "metadata": {},
     "output_type": "display_data"
    }
   ],
   "source": [
    "# belief position of robot\n",
    "x_robot = 1\n",
    "y_robot = 2\n",
    "# CV\n",
    "x_CV = 3.4442345\n",
    "y_CV = 2\n",
    "confid_CV = 0.75\n",
    "first_step = 0\n",
    "# Markov Filter\n",
    "x_filtered_robot, y_filtered_robot = markov(x_robot,y_robot,x_CV,y_CV,confid_CV,first_step)\n",
    "\n",
    "# visualization\n",
    "print(\"filtered value of the x position of the robot: \", x_filtered_robot)\n",
    "print(\"filtered value of the y position of the robot: \", y_filtered_robot)\n",
    "display_heatmap(map)"
   ]
  },
  {
   "cell_type": "markdown",
   "id": "654364a2-62c6-4834-b62b-0fc2af70bd6d",
   "metadata": {},
   "source": [
    "### 6.3. Limitations of the Markov Filter <a class=\"anchor\" id=\"problems\"></a>"
   ]
  },
  {
   "cell_type": "markdown",
   "id": "a20f2bb0",
   "metadata": {},
   "source": [
    "One of the limitations of this implementation of the Marokv filter is that there are a lot of \"pixels\" (75 x  100), but for the position given by the robot or the CV, only a square of 9 \"pixels\" is looked at. This means that if the position given by the robot and the one given by CV differ by more than 3 \"pixels\", the multiplication of the maps results in an empty map. In such a case we simply take the position of the CV.\n",
    "\n",
    "\n",
    "A possible solution could be to increase the size of a \"pixel\". That, however, would lead to a loss in precision.\n",
    "\n",
    "Since the float coordinate values given by CV are rounded down to an integer, we loose some precision. This is acceptable as the mouvement of the robot is not that precise and because there is anyways a light distortion of the map caused by the camera.\n",
    "\n",
    "As the filter can be inaccurate, it is sometimes necessary to only use the filter as long as the difference between the position given by CV and the filtered position is smaller than a certain value. Otherwise, the robot can exhibit some undesired behaviour. Because the position given by CV has a very high accuracy, this worked great.\n",
    "\n"
   ]
  },
  {
   "cell_type": "markdown",
   "id": "d92bc15b-4b6b-43ff-9fb5-c057bad1e63d",
   "metadata": {},
   "source": [
    "## 7. Main code <a class=\"anchor\" id=\"main_code\"></a>\n"
   ]
  },
  {
   "cell_type": "markdown",
   "id": "acd9f2b5-ec1b-4140-af59-7f4ef787214c",
   "metadata": {},
   "source": [
    "### 7.1. Packages and Functions importation <a class=\"anchor\" id=\"packages_functions_importation\"></a>"
   ]
  },
  {
   "cell_type": "code",
   "execution_count": 18,
   "id": "45136a5d-1786-4561-b621-e99a7c3de0ad",
   "metadata": {},
   "outputs": [],
   "source": [
    "import math \n",
    "import numpy as np\n",
    "import tdmclient.notebook\n",
    "\n",
    "import cv2\n",
    "from ultralytics import YOLO\n",
    "\n",
    "from CV_function import *\n",
    "from path_object import *\n",
    "from Markov_Filter import *"
   ]
  },
  {
   "cell_type": "markdown",
   "id": "5e995e8c-5f94-46e2-9950-477f2973d38c",
   "metadata": {},
   "source": [
    "### 7.2. Initialize Thymio functions <a class=\"anchor\" id=\"Thymio_functions\"></a>"
   ]
  },
  {
   "cell_type": "code",
   "execution_count": null,
   "id": "29b0317e-9e83-4883-95a6-16f4424a5bce",
   "metadata": {},
   "outputs": [],
   "source": [
    "try:\n",
    "    await tdmclient.notebook.stop()\n",
    "except:\n",
    "    pass\n",
    "await tdmclient.notebook.start()\n",
    "\n",
    "WALL_THRESHOLD = 500\n",
    "ROBOT_SPEED = 150\n",
    "CM_SEC = 6 # 6 cm per second at motor speed 150 used for driving straigt\n",
    "SEC_REVOLUTION = 9 # 9 seconds for 360 degrees at motor speed 100 used for turning\n",
    "\n",
    "@tdmclient.notebook.sync_var\n",
    "def get_prox():\n",
    "    global prox_horizontal\n",
    "    return prox_horizontal\n",
    "\n",
    "def local_navigation():\n",
    "    global WALL_THRESHOLD, ROBOT_SPEED\n",
    "    max_allowed_speed = 150\n",
    "    set_var(leds_top = [32, 0, 0])\n",
    "    while max(get_prox())>WALL_THRESHOLD:\n",
    "        weight_left = [25,  15, -20, -15, -25]\n",
    "        weight_right = [-25, -15, -15,  15,  25]\n",
    "    \n",
    "        # Scale factors for sensors and constant factor\n",
    "        sensor_scale = 500\n",
    "    \n",
    "        mem_sensor = [0,0,0,0,0]\n",
    "        prox_horizontal = get_prox()\n",
    "        \n",
    "        for i in range(len(mem_sensor)):\n",
    "            # Get and scale inputs\n",
    "            mem_sensor[i] = prox_horizontal[i] // sensor_scale\n",
    "    \n",
    "        y = [ROBOT_SPEED,ROBOT_SPEED]   \n",
    "        \n",
    "        for i in range(len(mem_sensor)):   \n",
    "            # Compute outputs of neurons and set motor powers\n",
    "            y[0] = y[0] + mem_sensor[i] * weight_left[i]\n",
    "            y[1] = y[1] + mem_sensor[i] * weight_right[i]\n",
    "    \n",
    "        # Set motor powers\n",
    "        set_var(motor_left_target = min(y[0],max_allowed_speed))\n",
    "        set_var(motor_right_target = min(y[1],max_allowed_speed))\n",
    "        time.sleep(0.2)\n",
    "    set_var(leds_top = [0, 0, 32])\n",
    "\n",
    "    return 0\n",
    "\n",
    "\n",
    "@tdmclient.notebook.sync_var\n",
    "# drive straight with \"speed\" (motor speed)\n",
    "def motors_drive(l_speed=500, r_speed=500):\n",
    "    global motor_left_target, motor_right_target\n",
    "    \n",
    "    motor_left_target = l_speed\n",
    "    motor_right_target = r_speed\n",
    "\n",
    "# drive \"dist\" [cm]\n",
    "def drive(dist=10):\n",
    "    global WALL_THRESHOLD, ROBOT_SPEED\n",
    "    motors_drive(ROBOT_SPEED,ROBOT_SPEED) #test with lower speed value\n",
    "    for i in range(10):\n",
    "        time.sleep((dist/(CM_SEC))/10) #motor speed = 50 equals 2.5cm/s -> calculates how many s you have to drive to cover a distance \"dist\" [cm]\n",
    "        if max(get_prox()) > WALL_THRESHOLD:\n",
    "            print(\"obstacle detected\")\n",
    "            local_navigation()\n",
    "            break\n",
    "    motors_drive(0,0)\n",
    "\n",
    "\n",
    "@tdmclient.notebook.sync_var \n",
    "# turn in a circle with \"speed\" (motor speed)\n",
    "def motors_turn(speed=100):\n",
    "    global motor_left_target, motor_right_target\n",
    "    motor_left_target = -speed\n",
    "    motor_right_target = speed\n",
    "    \n",
    "@tdmclient.notebook.sync_var \n",
    "def motors_turn_right(speed=100):\n",
    "    global motor_left_target, motor_right_target\n",
    "    motor_left_target = speed\n",
    "    motor_right_target = -speed\n",
    "\n",
    "# turn \"angle\" [degrees] anticlockwise\n",
    "def turn_degrees(angle):\n",
    "    if angle < 0:\n",
    "        motors_turn()\n",
    "        time.sleep(abs(angle)*SEC_REVOLUTION/360) \n",
    "        motors_turn(speed=0)\n",
    "    else:\n",
    "        motors_turn_right()\n",
    "        time.sleep(abs(angle)*9/360)\n",
    "        motors_turn_right(speed=0)\n",
    "\n",
    "# turn \"angle\" (2. row of Astar_moves) then drive \"dist\" (1.row of Astar_moves)\n",
    "def follow_path(dist,angle):\n",
    "    turn_degrees(angle)\n",
    "    drive(dist)\n",
    "    \n",
    "#used to initialize the follow robot command\n",
    "def follow_path_init(path, current_angle,scale_factor):\n",
    "    Ang = get_angle(path[0],path[1])\n",
    "    Ang = Ang  - current_angle\n",
    "    if abs(Ang) > 180:\n",
    "                    if Ang > 0:\n",
    "                        Ang = Ang-360\n",
    "                    else:\n",
    "                        Ang = Ang+360\n",
    "    dist = get_distance(path[0],path[1])\n",
    "    current_angle = Ang + current_angle\n",
    "    follow_path(dist*scale_factor,-Ang)\n",
    "    return current_angle"
   ]
  },
  {
   "cell_type": "markdown",
   "id": "1f162406-151f-4c88-b5ef-dee8149739cb",
   "metadata": {},
   "source": [
    "### 7.3. Main loop <a class=\"anchor\" id=\"main_loop\"></a>"
   ]
  },
  {
   "cell_type": "code",
   "execution_count": null,
   "id": "d4599935-8017-418d-ab41-8cd984b7b562",
   "metadata": {},
   "outputs": [],
   "source": [
    "#Initialize Global path object\n",
    "global_nav = Global_nav()\n",
    "\n",
    "#initialize markov filter map \n",
    "map_max_x = 100\n",
    "map_max_y = 75\n",
    "initialize_maps(map_max_x,map_max_y)\n",
    "\n",
    "\n",
    "#Set current angle to 0\n",
    "current_angle = 0\n",
    "#robot LED in driving mode\n",
    "set_var(leds_top = [0, 0, 32])\n",
    "\n",
    "i = 0\n",
    "#Initialize camera\n",
    "cap = cv2.VideoCapture(0)\n",
    "fourcc = cv2.VideoWriter_fourcc(*'XVID') \n",
    "output_ = cv2.VideoWriter('output.avi', fourcc, frames_per_second, (frame_height, frame_width)) \n",
    "while cap.isOpened():\n",
    "    \n",
    "    #image localization\n",
    "    success, frame = cap.read()\n",
    "    if  success:\n",
    "        ## Computer vision detection\n",
    "        array_box_dim_tot, annotated_frame = detection(frame)\n",
    "        \n",
    "        sorted_object = sorted(array_box_dim_tot, key=lambda x: order.get(x[0]))\n",
    "        #break when q is pressed\n",
    "        key = cv2.waitKey(1) & 0xFF \n",
    "        if key == ord('c'):  \n",
    "            break  \n",
    "    else:\n",
    "        print(\"Unable to load the camera pic\")\n",
    "        break\n",
    "\n",
    "    #fixing output from camera, use last output if no object is detected\n",
    "    sorted_object = fix_output(sorted_object,sorted_object_last)\n",
    "    \n",
    "\n",
    "    #blind mode if no object is detected. Follow last calculated path with position and angle update from robot itself\n",
    "    if sorted_object == False: \n",
    "        start = opti_path[1] \n",
    "        opti_path = opti_path[1:]\n",
    "        if len(opti_path) == 1:\n",
    "            print(\"Reached goal\")\n",
    "            set_var(leds_top = [0, 32, 0])\n",
    "            break\n",
    "        current_angle = follow_path_init(opti_path,current_angle,scale_factor)\n",
    "        last_robot_pos = list(start)\n",
    "        #print frame\n",
    "        annotated_frame = frame\n",
    "        cv2.imshow(\"frame\", annotated_frame)\n",
    "        continue #skip rest of loop to try to find object in next frame\n",
    "\n",
    "    #save last output\n",
    "    sorted_object_last = sorted_object\n",
    "\n",
    "    #change format of pic output \n",
    "    start, goal, earth, robot_radius, earth_radius, black_holes_centers, black_holes_radiuss,scale_factor = global_nav.convert_OPENCV_tovalues(sorted_object)\n",
    "    #if distance between robot and mars is less than 5 stop \n",
    "    if get_distance(start,goal) < 4:\n",
    "        print(\"Reached goal\")\n",
    "        set_var(leds_top = [0, 32, 0])\n",
    "        break\n",
    "    \n",
    "    #create map for gloabl navigation\n",
    "    occ, _,_=  global_nav.create_map( goal = goal ,black_holes_centers = black_holes_centers,black_holes_radiuss=black_holes_radiuss)\n",
    "\n",
    "    #use markov filter to update position \n",
    "    if i>0:\n",
    "        start = markov(opti_path[1][0],opti_path[1][1],start[0],start[1],sorted_object[0][2],i==0)        \n",
    "\n",
    "    #return path. Use the opti_path! \n",
    "    opti_path, _, _, _ = global_nav.get_path_straight(start=start,goal=goal)\n",
    "\n",
    "    #convert optipath to format used by camera\n",
    "    scaled_coords = convert_coordinates_2d_list(opti_path)\n",
    "\n",
    "    #annotate frame\n",
    "    if i>0:\n",
    "        annotation(annotated_frame, scaled_coords)\n",
    "    cv2.imshow(\"frame\", annotated_frame)\n",
    "    output_.write(annotated_frame)\n",
    "    \n",
    "    #update current angle. Take the average of the calculated from image and robot motion\n",
    "    if i != 0: \n",
    "        if list(start) != last_robot_pos:\n",
    "            current_angle = update_angle(last_robot_pos,start,current_angle)\n",
    "\n",
    "\n",
    "    #follow first two points in path\n",
    "    current_angle = follow_path_init(opti_path,current_angle,scale_factor)\n",
    "\n",
    "    #save last robot position\n",
    "    last_robot_pos = list(start)\n",
    "\n",
    "    i+=1\n",
    "\n",
    "#print last frame and save video\n",
    "success, frame = cap.read()\n",
    "array_box_dim_tot, annotated_frame = detection(frame)\n",
    "cv2.imshow(\"frame\", annotated_frame)\n",
    "cv2.startWindowThread()\n",
    "cap.release()\n",
    "output_.release()\n",
    "cv2.destroyAllWindows()"
   ]
  },
  {
   "cell_type": "markdown",
   "id": "c140d721-43dd-44fa-8e58-9a7837db62c0",
   "metadata": {},
   "source": [
    "## 8. Videos Demonstration <a class=\"anchor\" id=\"videos_demonstration\"></a>"
   ]
  },
  {
   "cell_type": "markdown",
   "id": "0a9bd872-f293-4b28-bc63-de4f018b2c2d",
   "metadata": {},
   "source": [
    "### 8.1. Demonstration without kidnapping  <a class=\"anchor\" id=\"videos_demonstration_without\"></a>\n",
    "<div style=\"text-align: center;\">\n",
    "    <video width=\"640\" height=\"480\" \n",
    "           src=\"./robot_demo.mp4\"  \n",
    "           controls>\n",
    "    </video>\n",
    "</div>"
   ]
  },
  {
   "cell_type": "markdown",
   "id": "d165d04c-51e3-4aae-9fac-0b1dc151a8ce",
   "metadata": {},
   "source": [
    "### 8.2. Demonstration with goal removed mid journey and camera blacked out midway.\n",
    "Here it can be seen that the robot quickly moves to the goal even after the goal is moved across the environment. Even while the camera is blacked out the robot moves towards the goal using only onboard sensors. \n",
    "\n",
    " <a class=\"anchor\" id=\"videos_demonstration_with\"></a>\n",
    "\n",
    "<div style=\"text-align: center;\">\n",
    "    <video width=\"640\" height=\"480\" \n",
    "           src=\"./robot_demo_v1.mp4\"  \n",
    "           controls>\n",
    "    </video>\n",
    "</div>"
   ]
  },
  {
   "cell_type": "markdown",
   "id": "ebf60694-81d6-4ca5-ab9d-3f251c96622d",
   "metadata": {},
   "source": [
    "### 9. Conclusion <a class=\"anchor\" id=\"conclusion\"></a>"
   ]
  },
  {
   "cell_type": "markdown",
   "id": "cbe87c41-3d43-4e52-8397-8e37561af098",
   "metadata": {},
   "source": [
    "In space a robust system is important. That is why we chose to go with a system that updates all postitions and paths in each step. While this is not a fast method, since posistions and global path has to be recomputated, the method allows all part of the system to move and still have the space ship (robot) find its way to Mars. Doing the navigation in steps meant that we could not achive a smooth trajectory of the robot. However, this method did prove to make the whole system very robust. We can move the camera, move the robot, and move obstacles and still have the space ship land on Mars."
   ]
  },
  {
   "cell_type": "markdown",
   "id": "50cdf697-36b4-4447-8c71-f26046b91635",
   "metadata": {},
   "source": [
    "### 10. References <a class=\"anchor\" id=\"references\"></a>"
   ]
  },
  {
   "cell_type": "markdown",
   "id": "c843a9a2-7c99-4b74-a834-0bee75bc8da0",
   "metadata": {},
   "source": [
    "#### 10.0. General <a class=\"anchor\" id=\"rg_references\"></a>\n",
    "\n",
    "- https://chat.openai.com/\n",
    "- https://github.com/hibetterheyj/Thymio_Vision_Guided_Navigation/blob/master/BMR_Final_Project.ipynb "
   ]
  },
  {
   "cell_type": "markdown",
   "id": "ab88364f-a894-46e9-bc3b-b40c67bfe851",
   "metadata": {},
   "source": [
    "#### 10.1. Computer Vision <a class=\"anchor\" id=\"cv_references\"></a>\n",
    "\n",
    "\n",
    "- https://blog.roboflow.com/whats-new-in-yolov8/\n",
    "- https://en.wikipedia.org/wiki/Convolutional_neural_network\n"
   ]
  },
  {
   "cell_type": "markdown",
   "id": "b86c2f34-5367-4d29-abed-285aa80f4b4e",
   "metadata": {},
   "source": [
    "#### 10.2. Global Path <a class=\"anchor\" id=\"gb_references\"></a>\n",
    "\n",
    "- https://en.wikipedia.org/wiki/A*_search_algorithm\n",
    "- Solutions Week 4 - APath Planning.ipynb"
   ]
  },
  {
   "cell_type": "markdown",
   "id": "183e6bc9-d87f-4438-ae14-9d5bcef3fa9b",
   "metadata": {},
   "source": [
    "#### 10.3. Local Navigation <a class=\"anchor\" id=\"ln_references\"></a>\n",
    "\n",
    "- Solutions Week 3 - Artificial neural networks.ipynb\n"
   ]
  },
  {
   "cell_type": "markdown",
   "id": "34e7411d-94ba-4fda-9859-a12314dd7f1d",
   "metadata": {},
   "source": [
    "#### 10.4. Filtering <a class=\"anchor\" id=\"f_references\"></a>\n",
    "\n",
    "- \"MOBILE ROBOTS 7/8 - Uncertainties\" from Prof. Mondada of the class \"Basics of Mobile Robotics\", MICRO-452, EPFL."
   ]
  }
 ],
 "metadata": {
  "kernelspec": {
   "display_name": "Python 3 (ipykernel)",
   "language": "python",
   "name": "python3"
  },
  "language_info": {
   "codemirror_mode": {
    "name": "ipython",
    "version": 3
   },
   "file_extension": ".py",
   "mimetype": "text/x-python",
   "name": "python",
   "nbconvert_exporter": "python",
   "pygments_lexer": "ipython3",
   "version": "3.10.12"
  }
 },
 "nbformat": 4,
 "nbformat_minor": 5
}
